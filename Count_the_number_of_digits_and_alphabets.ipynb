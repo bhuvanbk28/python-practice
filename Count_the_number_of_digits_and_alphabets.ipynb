{
  "nbformat": 4,
  "nbformat_minor": 0,
  "metadata": {
    "colab": {
      "provenance": []
    },
    "kernelspec": {
      "name": "python3",
      "display_name": "Python 3"
    },
    "language_info": {
      "name": "python"
    }
  },
  "cells": [
    {
      "cell_type": "code",
      "execution_count": 1,
      "metadata": {
        "colab": {
          "base_uri": "https://localhost:8080/"
        },
        "id": "hXif8XUvUagV",
        "outputId": "3b984270-4b34-4307-dac5-37b22e3b1a54"
      },
      "outputs": [
        {
          "output_type": "stream",
          "name": "stdout",
          "text": [
            "Enter a string: bca2024b\n",
            "Digit:  4\n",
            "Alphabet:  4\n"
          ]
        }
      ],
      "source": [
        "text = str(input(\"Enter a string: \"))\n",
        "digit=alphabet=0\n",
        "for i in text:\n",
        "  if i.isdigit():\n",
        "    digit+=1\n",
        "  elif i.isalpha():\n",
        "    alphabet+=1\n",
        "print(\"Digit: \",digit)\n",
        "print(\"Alphabet: \",alphabet)"
      ]
    }
  ]
}