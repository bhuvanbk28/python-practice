{
  "nbformat": 4,
  "nbformat_minor": 0,
  "metadata": {
    "colab": {
      "provenance": []
    },
    "kernelspec": {
      "name": "python3",
      "display_name": "Python 3"
    },
    "language_info": {
      "name": "python"
    }
  },
  "cells": [
    {
      "cell_type": "code",
      "execution_count": 1,
      "metadata": {
        "colab": {
          "base_uri": "https://localhost:8080/"
        },
        "id": "qx6ZdI6Cv9eP",
        "outputId": "9fc581ee-e4ba-4566-e4d4-f9d7d8a7b036"
      },
      "outputs": [
        {
          "output_type": "stream",
          "name": "stdout",
          "text": [
            "15\n"
          ]
        }
      ],
      "source": [
        "#sum of all number in a list without using built in function\n",
        "def sum_of_list(list):\n",
        "  s=0\n",
        "  for i in list:\n",
        "    s=s+i\n",
        "  return s\n",
        "list=[1,2,3,4,5]\n",
        "result=sum_of_list(list)\n",
        "print(result)"
      ]
    }
  ]
}