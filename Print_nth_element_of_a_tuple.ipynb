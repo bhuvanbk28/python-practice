{
  "nbformat": 4,
  "nbformat_minor": 0,
  "metadata": {
    "colab": {
      "provenance": []
    },
    "kernelspec": {
      "name": "python3",
      "display_name": "Python 3"
    },
    "language_info": {
      "name": "python"
    }
  },
  "cells": [
    {
      "cell_type": "code",
      "source": [
        "tuple=(\"faceprep\")\n",
        "print(tuple[3])\n",
        "print(tuple[-4])"
      ],
      "metadata": {
        "colab": {
          "base_uri": "https://localhost:8080/"
        },
        "id": "vvUz7vore9nD",
        "outputId": "9ecddc2f-b46a-413f-c168-edc3aad7b16d"
      },
      "execution_count": 3,
      "outputs": [
        {
          "output_type": "stream",
          "name": "stdout",
          "text": [
            "e\n",
            "p\n"
          ]
        }
      ]
    },
    {
      "cell_type": "code",
      "source": [
        "tuple1=input(\"Enter a letter: \")\n",
        "for i in range(len(tuple1)):\n",
        "    print(tuple1[3])\n",
        "    print(tuple1[-4])\n",
        "    break"
      ],
      "metadata": {
        "colab": {
          "base_uri": "https://localhost:8080/"
        },
        "id": "So77pNz0g-N8",
        "outputId": "17b92a14-da2a-45c3-e43a-946dd9ba8dad"
      },
      "execution_count": 7,
      "outputs": [
        {
          "output_type": "stream",
          "name": "stdout",
          "text": [
            "Enter a letter: faceprep\n",
            "e\n",
            "p\n"
          ]
        }
      ]
    },
    {
      "cell_type": "code",
      "source": [],
      "metadata": {
        "id": "cpqIG2LMiSwk"
      },
      "execution_count": null,
      "outputs": []
    }
  ]
}