{
  "nbformat": 4,
  "nbformat_minor": 0,
  "metadata": {
    "colab": {
      "provenance": []
    },
    "kernelspec": {
      "name": "python3",
      "display_name": "Python 3"
    },
    "language_info": {
      "name": "python"
    }
  },
  "cells": [
    {
      "cell_type": "code",
      "execution_count": 1,
      "metadata": {
        "colab": {
          "base_uri": "https://localhost:8080/"
        },
        "id": "EeV5OTCYvibd",
        "outputId": "dbc00ac6-629c-4db1-b4bc-f2b39f14fc1f"
      },
      "outputs": [
        {
          "output_type": "stream",
          "name": "stdout",
          "text": [
            "Enter the string:BCA2024\n",
            "4202ACB\n"
          ]
        }
      ],
      "source": [
        "#Write a program to reverse a String without built in function\n",
        "def r(string):\n",
        "  rev=\"\"\n",
        "  for i in string:\n",
        "    rev=i+rev\n",
        "  return rev\n",
        "string=input(\"Enter the string:\")\n",
        "print(r(string))"
      ]
    }
  ]
}