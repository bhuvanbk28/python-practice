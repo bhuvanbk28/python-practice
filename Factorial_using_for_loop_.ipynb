{
  "nbformat": 4,
  "nbformat_minor": 0,
  "metadata": {
    "colab": {
      "provenance": []
    },
    "kernelspec": {
      "name": "python3",
      "display_name": "Python 3"
    },
    "language_info": {
      "name": "python"
    }
  },
  "cells": [
    {
      "cell_type": "code",
      "execution_count": 2,
      "metadata": {
        "colab": {
          "base_uri": "https://localhost:8080/"
        },
        "id": "5RMOJrRZHQ7F",
        "outputId": "5e973541-2c1b-420f-c47b-eb5f64292a25"
      },
      "outputs": [
        {
          "output_type": "stream",
          "name": "stdout",
          "text": [
            "Enter a number: 5\n",
            "Factorial of 5 is= 120\n"
          ]
        }
      ],
      "source": [
        "n=int(input(\"Enter a number: \"))\n",
        "fact=1\n",
        "for i in range(1,n+1):\n",
        "    fact=fact*i\n",
        "print(\"Factorial of\",n,\"is=\",fact)"
      ]
    },
    {
      "cell_type": "code",
      "source": [
        "n=int(input(\"Enter a number: \"))\n",
        "fact=1\n",
        "while 1<=n:\n",
        "    fact=fact*i\n",
        "    i=i-1\n",
        "print(\"Factorial of\",n,\"is=\",fact)"
      ],
      "metadata": {
        "colab": {
          "base_uri": "https://localhost:8080/"
        },
        "id": "WqQisxdIH5g3",
        "outputId": "01daf5ee-c371-44e3-d2a8-9b83e64a2b3d"
      },
      "execution_count": 3,
      "outputs": [
        {
          "output_type": "stream",
          "name": "stdout",
          "text": [
            "Enter a number: 0\n",
            "Factorial of 0 is= 1\n"
          ]
        }
      ]
    }
  ]
}