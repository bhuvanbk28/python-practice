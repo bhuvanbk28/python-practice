{
  "nbformat": 4,
  "nbformat_minor": 0,
  "metadata": {
    "colab": {
      "provenance": []
    },
    "kernelspec": {
      "name": "python3",
      "display_name": "Python 3"
    },
    "language_info": {
      "name": "python"
    }
  },
  "cells": [
    {
      "cell_type": "code",
      "execution_count": 1,
      "metadata": {
        "colab": {
          "base_uri": "https://localhost:8080/"
        },
        "id": "ryngfekhR2V5",
        "outputId": "9177ecca-8534-4511-ca02-849eaba01cc3"
      },
      "outputs": [
        {
          "output_type": "stream",
          "name": "stdout",
          "text": [
            "Enter a number: 515\n",
            "The number of digits is:  3\n"
          ]
        }
      ],
      "source": [
        "a=int(input(\"Enter a number: \"))\n",
        "count=0\n",
        "while a>0:\n",
        "  a=a//10\n",
        "  count=count+1\n",
        "print(\"The number of digits is: \",count)"
      ]
    }
  ]
}