{
  "nbformat": 4,
  "nbformat_minor": 0,
  "metadata": {
    "colab": {
      "provenance": []
    },
    "kernelspec": {
      "name": "python3",
      "display_name": "Python 3"
    },
    "language_info": {
      "name": "python"
    }
  },
  "cells": [
    {
      "cell_type": "code",
      "execution_count": 1,
      "metadata": {
        "colab": {
          "base_uri": "https://localhost:8080/"
        },
        "id": "mTo62FSGuSgA",
        "outputId": "19dc755e-aeae-43b9-9057-7bc2a48ed201"
      },
      "outputs": [
        {
          "output_type": "stream",
          "name": "stdout",
          "text": [
            "Enter the string:AMERICA\n",
            "Not Palindrome\n",
            "False\n"
          ]
        }
      ],
      "source": [
        "#Write a program Palindrome without built in function\n",
        "def p(string):\n",
        "  rev=\"\"\n",
        "  for i in string:\n",
        "    rev=i+rev\n",
        "  if string==rev:\n",
        "    print(\"Palindrome\")\n",
        "    return True\n",
        "  else:\n",
        "    print(\"Not Palindrome\")\n",
        "    return False\n",
        "string=input(\"Enter the string:\")\n",
        "print(p(string))"
      ]
    },
    {
      "cell_type": "code",
      "source": [
        "#Write a program Palindrome without built in function\n",
        "def p(string):\n",
        "  rev=\"\"\n",
        "  for i in string:\n",
        "    rev=i+rev\n",
        "  if string==rev:\n",
        "    print(\"Palindrome\")\n",
        "    return True\n",
        "  else:\n",
        "    print(\"Not Palindrome\")\n",
        "    return False\n",
        "string=input(\"Enter the string:\")\n",
        "print(p(string))"
      ],
      "metadata": {
        "colab": {
          "base_uri": "https://localhost:8080/"
        },
        "id": "plsuUayxua26",
        "outputId": "ec214a84-6618-4dfe-932b-3a0572c5fd82"
      },
      "execution_count": 2,
      "outputs": [
        {
          "output_type": "stream",
          "name": "stdout",
          "text": [
            "Enter the string:LEVEL\n",
            "Palindrome\n",
            "True\n"
          ]
        }
      ]
    }
  ]
}