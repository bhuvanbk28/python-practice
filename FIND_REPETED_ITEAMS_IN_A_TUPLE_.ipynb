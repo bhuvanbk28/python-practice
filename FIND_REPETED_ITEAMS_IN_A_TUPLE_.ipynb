{
  "nbformat": 4,
  "nbformat_minor": 0,
  "metadata": {
    "colab": {
      "provenance": []
    },
    "kernelspec": {
      "name": "python3",
      "display_name": "Python 3"
    },
    "language_info": {
      "name": "python"
    }
  },
  "cells": [
    {
      "cell_type": "code",
      "execution_count": 1,
      "metadata": {
        "colab": {
          "base_uri": "https://localhost:8080/"
        },
        "id": "wMXFMsQPlLAF",
        "outputId": "4e49fbcc-85b8-4ea9-d157-189caf0df7d7"
      },
      "outputs": [
        {
          "output_type": "stream",
          "name": "stdout",
          "text": [
            "Enter the elements of the tuple, separated by commas: 2,4,5,6,2,3,4,4,7\n",
            "Repeated items in the tuple: ['2', '4']\n"
          ]
        }
      ],
      "source": [
        "user_input = input(\"Enter the elements of the tuple, separated by commas: \")\n",
        "input_list = user_input.split(',')\n",
        "input_tuple = tuple(input_list)\n",
        "item_counts = {}\n",
        "for item in input_tuple:\n",
        "  if item in item_counts:\n",
        "    item_counts[item] += 1\n",
        "  else:\n",
        "    item_counts[item] = 1\n",
        "repeated_items = [item for item, count in item_counts.items() if count > 1]\n",
        "print(\"Repeated items in the tuple:\" ,repeated_items)"
      ]
    }
  ]
}