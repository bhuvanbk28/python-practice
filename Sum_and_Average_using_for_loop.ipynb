{
  "nbformat": 4,
  "nbformat_minor": 0,
  "metadata": {
    "colab": {
      "provenance": []
    },
    "kernelspec": {
      "name": "python3",
      "display_name": "Python 3"
    },
    "language_info": {
      "name": "python"
    }
  },
  "cells": [
    {
      "cell_type": "code",
      "execution_count": 3,
      "metadata": {
        "colab": {
          "base_uri": "https://localhost:8080/"
        },
        "id": "ko5raVY4FBBT",
        "outputId": "8ac91a48-ae6f-47be-91f2-d6dc1467617a"
      },
      "outputs": [
        {
          "output_type": "stream",
          "name": "stdout",
          "text": [
            "enter the number: 5\n",
            "1\n",
            "3\n",
            "6\n",
            "10\n",
            "15\n"
          ]
        }
      ],
      "source": [
        "n=int(input(\"enter the number: \"))\n",
        "sum=0\n",
        "for i in range(1,n+1):\n",
        "    sum=sum+i\n",
        "    print(sum)"
      ]
    },
    {
      "cell_type": "code",
      "source": [
        "n=int(input(\"enter the number: \"))\n",
        "sum=0\n",
        "for i in range(1,n+1):\n",
        "    sum=sum+i\n",
        "    print(\"SUM: \",sum)\n",
        "    print(\"AVG: \",sum/n)"
      ],
      "metadata": {
        "colab": {
          "base_uri": "https://localhost:8080/"
        },
        "id": "uH-IhmuRHtrc",
        "outputId": "62b20ac7-bb17-45f8-aed7-59bbe9d5e2d1"
      },
      "execution_count": 11,
      "outputs": [
        {
          "output_type": "stream",
          "name": "stdout",
          "text": [
            "enter the number: 5\n",
            "SUM:  1\n",
            "AVG:  0.2\n",
            "SUM:  3\n",
            "AVG:  0.6\n",
            "SUM:  6\n",
            "AVG:  1.2\n",
            "SUM:  10\n",
            "AVG:  2.0\n",
            "SUM:  15\n",
            "AVG:  3.0\n"
          ]
        }
      ]
    }
  ]
}