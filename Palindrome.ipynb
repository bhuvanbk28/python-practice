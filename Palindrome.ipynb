{
  "nbformat": 4,
  "nbformat_minor": 0,
  "metadata": {
    "colab": {
      "provenance": []
    },
    "kernelspec": {
      "name": "python3",
      "display_name": "Python 3"
    },
    "language_info": {
      "name": "python"
    }
  },
  "cells": [
    {
      "cell_type": "code",
      "execution_count": 2,
      "metadata": {
        "colab": {
          "base_uri": "https://localhost:8080/"
        },
        "id": "i3jgYBTpI93G",
        "outputId": "b00da24f-617a-4e7f-9189-246371af04a3"
      },
      "outputs": [
        {
          "output_type": "stream",
          "name": "stdout",
          "text": [
            "Enter a string: lool\n",
            "l\n",
            "ol\n",
            "ool\n",
            "lool\n",
            "Palindrome\n"
          ]
        }
      ],
      "source": [
        "text = str(input(\"Enter a string: \"))\n",
        "rev=\"\"\n",
        "for i in text:\n",
        "  rev=i+rev\n",
        "  print(rev)\n",
        "\n",
        "if text==rev:\n",
        "  print(\"Palindrome\")\n",
        "else:\n",
        "  print(\"Not a palindrome\")\n"
      ]
    },
    {
      "cell_type": "code",
      "source": [
        "text = str(input(\"Enter a string: \"))\n",
        "rev=\"\"\n",
        "i = 0\n",
        "while i < len(text):\n",
        "  rev = text[i] + rev\n",
        "  print(rev)\n",
        "  i += 1\n",
        "\n",
        "if text==rev:\n",
        "  print(\"Palindrome\")\n",
        "else:\n",
        "  print(\"Not a palindrome\")"
      ],
      "metadata": {
        "colab": {
          "base_uri": "https://localhost:8080/"
        },
        "id": "oeaPhFAGMTe3",
        "outputId": "d65ec988-31ac-4f37-a428-1d75e637861f"
      },
      "execution_count": 9,
      "outputs": [
        {
          "output_type": "stream",
          "name": "stdout",
          "text": [
            "Enter a string: bhuvan\n",
            "b\n",
            "hb\n",
            "uhb\n",
            "vuhb\n",
            "avuhb\n",
            "navuhb\n",
            "Not a palindrome\n"
          ]
        }
      ]
    }
  ]
}