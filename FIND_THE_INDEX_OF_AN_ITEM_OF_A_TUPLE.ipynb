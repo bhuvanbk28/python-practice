{
  "nbformat": 4,
  "nbformat_minor": 0,
  "metadata": {
    "colab": {
      "provenance": []
    },
    "kernelspec": {
      "name": "python3",
      "display_name": "Python 3"
    },
    "language_info": {
      "name": "python"
    }
  },
  "cells": [
    {
      "cell_type": "code",
      "execution_count": 1,
      "metadata": {
        "colab": {
          "base_uri": "https://localhost:8080/"
        },
        "id": "4bMdMfWDo7sf",
        "outputId": "a155f738-f2e9-4123-a1c6-3befe7b446ce"
      },
      "outputs": [
        {
          "output_type": "stream",
          "name": "stdout",
          "text": [
            "python\n",
            "t\n",
            "The index of t  is: 2\n"
          ]
        }
      ],
      "source": [
        "my_tuple = ('python')\n",
        "print(my_tuple)\n",
        "item_to_find = 't'\n",
        "print(item_to_find)\n",
        "\n",
        "index = -1\n",
        "\n",
        "for i in range(len(my_tuple)):\n",
        "  if my_tuple[i] == item_to_find:\n",
        "    index = i\n",
        "    break\n",
        "\n",
        "if index != -1:\n",
        "  print(\"The index of\" ,item_to_find,' is:', index)"
      ]
    }
  ]
}